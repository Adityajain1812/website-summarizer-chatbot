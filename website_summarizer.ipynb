{
 "cells": [
  {
   "cell_type": "markdown",
   "id": "d15d8294-3328-4e07-ad16-8a03e9bbfdb9",
   "metadata": {},
   "source": [
    "# Website Summarizer\n",
    "This project aims to build a Website Summarizer Chatbot that extracts and condenses information from webpage into a clear, concise summary. By combining web scraping and AI-powered summarization, the chatbot helps users save time and quickly grasp the key insights from long-form online content.\n"
   ]
  },
  {
   "cell_type": "markdown",
   "id": "ecc459a4-5bba-493f-a4f6-a295f53f52e8",
   "metadata": {},
   "source": [
    "### Importing libraries"
   ]
  },
  {
   "cell_type": "code",
   "execution_count": 1,
   "id": "4e2a9393-7767-488e-a8bf-27c12dca35bd",
   "metadata": {},
   "outputs": [],
   "source": [
    "# imports\n",
    "\n",
    "import requests\n",
    "from bs4 import BeautifulSoup\n",
    "from IPython.display import Markdown, display\n",
    "import ollama"
   ]
  },
  {
   "cell_type": "code",
   "execution_count": 2,
   "id": "29ddd15d-a3c5-4f4e-a678-873f56162724",
   "metadata": {},
   "outputs": [],
   "source": [
    "# Constants\n",
    "\n",
    "MODEL = \"llama3.2\""
   ]
  },
  {
   "cell_type": "markdown",
   "id": "d58e0be0-e3d7-45cf-9e7c-619f087e6b67",
   "metadata": {},
   "source": [
    "### Creating a class name Website to represent a Webpage"
   ]
  },
  {
   "cell_type": "code",
   "execution_count": 3,
   "id": "c5e793b2-6775-426a-a139-4848291d0463",
   "metadata": {},
   "outputs": [],
   "source": [
    "# A class to represent a Webpage\n",
    "\n",
    "class Website:\n",
    "    url: str\n",
    "    title: str\n",
    "    text: str\n",
    "\n",
    "    def __init__(self, url):\n",
    "        self.url = url\n",
    "        response = requests.get(url)\n",
    "        soup = BeautifulSoup(response.content, 'html.parser')\n",
    "        self.title = soup.title.string if soup.title else \"No title found\"\n",
    "        for irrelevant in soup.body([\"script\", \"style\", \"img\", \"input\"]):\n",
    "            irrelevant.decompose()\n",
    "        self.text = soup.body.get_text(separator=\"\\n\", strip=True)"
   ]
  },
  {
   "cell_type": "code",
   "execution_count": 4,
   "id": "2ef960cf-6dc2-4cda-afb3-b38be12f4c97",
   "metadata": {},
   "outputs": [
    {
     "name": "stdout",
     "output_type": "stream",
     "text": [
      "Home - Edward Donner\n",
      "Home\n",
      "Connect Four\n",
      "Outsmart\n",
      "An arena that pits LLMs against each other in a battle of diplomacy and deviousness\n",
      "About\n",
      "Posts\n",
      "Well, hi there.\n",
      "I’m Ed. I like writing code and experimenting with LLMs, and hopefully you’re here because you do too. I also enjoy DJing (but I’m badly out of practice), amateur electronic music production (\n",
      "very\n",
      "amateur) and losing myself in\n",
      "Hacker News\n",
      ", nodding my head sagely to things I only half understand.\n",
      "I’m the co-founder and CTO of\n",
      "Nebula.io\n",
      ". We’re applying AI to a field where it can make a massive, positive impact: helping people discover their potential and pursue their reason for being. Recruiters use our product today to source, understand, engage and manage talent. I’m previously the founder and CEO of AI startup untapt,\n",
      "acquired in 2021\n",
      ".\n",
      "We work with groundbreaking, proprietary LLMs verticalized for talent, we’ve\n",
      "patented\n",
      "our matching model, and our award-winning platform has happy customers and tons of press coverage.\n",
      "Connect\n",
      "with me for more!\n",
      "May 28, 2025\n",
      "Connecting my courses – become an LLM expert and leader\n",
      "May 18, 2025\n",
      "2025 AI Executive Briefing\n",
      "April 21, 2025\n",
      "The Complete Agentic AI Engineering Course\n",
      "January 23, 2025\n",
      "LLM Workshop – Hands-on with Agents – resources\n",
      "Navigation\n",
      "Home\n",
      "Connect Four\n",
      "Outsmart\n",
      "An arena that pits LLMs against each other in a battle of diplomacy and deviousness\n",
      "About\n",
      "Posts\n",
      "Get in touch\n",
      "ed [at] edwarddonner [dot] com\n",
      "www.edwarddonner.com\n",
      "Follow me\n",
      "LinkedIn\n",
      "Twitter\n",
      "Facebook\n",
      "Subscribe to newsletter\n",
      "Type your email…\n",
      "Subscribe\n"
     ]
    }
   ],
   "source": [
    "ed = Website(\"https://edwarddonner.com\")\n",
    "print(ed.title)\n",
    "print(ed.text)"
   ]
  },
  {
   "cell_type": "markdown",
   "id": "6a478a0c-2c53-48ff-869c-4d08199931e1",
   "metadata": {},
   "source": [
    "### Defining the system prompt"
   ]
  },
  {
   "cell_type": "code",
   "execution_count": 5,
   "id": "abdb8417-c5dc-44bc-9bee-2e059d162699",
   "metadata": {},
   "outputs": [],
   "source": [
    "system_prompt = \"You are an assistant that analyzes the contents of a website \\\n",
    "and provides a short summary, ignoring text that might be navigation related. \\\n",
    "Respond in markdown.\""
   ]
  },
  {
   "cell_type": "markdown",
   "id": "ced418d2-a80e-4be5-83a5-2802df8bc025",
   "metadata": {},
   "source": [
    "### Defining some user prompts"
   ]
  },
  {
   "cell_type": "code",
   "execution_count": 6,
   "id": "f0275b1b-7cfe-4f9d-abfa-7650d378da0c",
   "metadata": {},
   "outputs": [],
   "source": [
    "# A function to write a User Prompt that asks for summary of a website:\n",
    "\n",
    "def user_prompt_for(website):\n",
    "    user_prompt = f\"You are looking at a website titled {website.title}\"\n",
    "    user_prompt += \"The contents of this website is as follows; \\\n",
    "please provide a short summary of this website in markdown. \\\n",
    "If it includes news or announcements, then summarize these too.\\n\\n\"\n",
    "    user_prompt += website.text\n",
    "    return user_prompt"
   ]
  },
  {
   "cell_type": "code",
   "execution_count": 7,
   "id": "0134dfa4-8299-48b5-b444-f2a8c3403c88",
   "metadata": {},
   "outputs": [],
   "source": [
    "def messages_for(website):\n",
    "    return [\n",
    "        {\"role\": \"system\", \"content\": system_prompt},\n",
    "        {\"role\": \"user\", \"content\": user_prompt_for(website)}\n",
    "    ]"
   ]
  },
  {
   "cell_type": "markdown",
   "id": "16f49d46-bf55-4c3e-928f-68fc0bf715b0",
   "metadata": {},
   "source": [
    "### Creating a function that takes a URL, turns it into a Website object, formats that into a prompt for the model and returns the summary generated by the model(Ollama)."
   ]
  },
  {
   "cell_type": "code",
   "execution_count": 8,
   "id": "905b9919-aba7-45b5-ae65-81b3d1d78e34",
   "metadata": {},
   "outputs": [],
   "source": [
    "def summarize(url):\n",
    "    website = Website(url)\n",
    "    messages = messages_for(website)\n",
    "    response = ollama.chat(model=MODEL, messages=messages)\n",
    "    return response['message']['content']"
   ]
  },
  {
   "cell_type": "code",
   "execution_count": 9,
   "id": "05e38d41-dfa4-4b20-9c96-c46ea75d9fb5",
   "metadata": {},
   "outputs": [
    {
     "data": {
      "text/plain": [
       "'# Website Summary\\n### Overview\\n\\nThe website \"Home - Edward Donner\" appears to be a personal blog or portfolio site of its creator, Ed. The site showcases his interests in writing code, experimenting with Large Language Models (LLMs), and DJing.\\n\\n### Features\\n\\n* An \"Outsmart\" section featuring an arena where LLMs compete against each other in diplomacy and deception.\\n* A \"Connect Four\" section, although the purpose of this section is unclear without more context.\\n* A \"Posts\" section containing various articles about Ed\\'s projects, including Nebula.io and his AI-related endeavors.\\n* News and announcements:\\n\\t+ May 28, 2025: \"Connecting my courses – become an LLM expert and leader\"\\n\\t+ May 18, 2025: \"2025 AI Executive Briefing\"\\n\\t+ April 21, 2025: \"The Complete Agentic AI Engineering Course\"\\n\\t+ January 23, 2025: \"LLM Workshop – Hands-on with Agents – resources\"\\n\\n### Social Media and Contact Information\\n\\n* Ed\\'s contact information includes an email address and a website URL.\\n* He is active on LinkedIn, Twitter, and Facebook, inviting visitors to follow him.\\n\\nNote that navigation-related sections have been ignored in the summary.'"
      ]
     },
     "execution_count": 9,
     "metadata": {},
     "output_type": "execute_result"
    }
   ],
   "source": [
    "summarize(\"https://edwarddonner.com\")"
   ]
  },
  {
   "cell_type": "markdown",
   "id": "6bec4a88-58bc-4277-9d50-05afd16aff0f",
   "metadata": {},
   "source": [
    "### Creating a function to display the summary into nicer form using markdown language."
   ]
  },
  {
   "cell_type": "code",
   "execution_count": 10,
   "id": "3d926d59-450e-4609-92ba-2d6f244f1342",
   "metadata": {},
   "outputs": [],
   "source": [
    "# A function to display this nicely in the Jupyter output, using markdown\n",
    "\n",
    "def display_summary(url):\n",
    "    summary = summarize(url)\n",
    "    display(Markdown(summary))"
   ]
  },
  {
   "cell_type": "code",
   "execution_count": 11,
   "id": "3018853a-445f-41ff-9560-d925d1774b2f",
   "metadata": {},
   "outputs": [
    {
     "data": {
      "text/markdown": [
       "**Summary of Website**\n",
       "\n",
       "* The website is run by Edward Donner, a co-founder and CTO of Nebula.io, an AI company applying AI to help people discover their potential.\n",
       "* Edward is also a DJ, amateur electronic music producer, and enjoys reading Hacker News.\n",
       "* His main focus on the website appears to be promoting his own projects and expertise in Large Language Models (LLMs).\n",
       "\n",
       "**Upcoming Events**\n",
       "\n",
       "* **Connecting my courses – become an LLM expert and leader**: A course by Edward Donner.\n",
       "* **2025 AI Executive Briefing**: An event or possibly a report, no further details provided.\n",
       "* **The Complete Agentic AI Engineering Course**: Another course by Edward Donner.\n",
       "* **LLM Workshop – Hands-on with Agents – resources**: Resources for an LLM workshop, possibly related to one of the courses.\n",
       "\n",
       "**Contact Information**\n",
       "\n",
       "* Email address: ed [at] edwarddonner [dot] com\n",
       "* Website: www.edwarddonner.com\n",
       "* Social media links:\n",
       "\t+ LinkedIn\n",
       "\t+ Twitter\n",
       "\t+ Facebook"
      ],
      "text/plain": [
       "<IPython.core.display.Markdown object>"
      ]
     },
     "metadata": {},
     "output_type": "display_data"
    }
   ],
   "source": [
    "display_summary(\"https://edwarddonner.com/\")"
   ]
  },
  {
   "cell_type": "markdown",
   "id": "b3bcf6f4-adce-45e9-97ad-d9a5d7a3a624",
   "metadata": {},
   "source": [
    "# Trying different websites."
   ]
  },
  {
   "cell_type": "code",
   "execution_count": 12,
   "id": "45d83403-a24c-44b5-84ac-961449b4008f",
   "metadata": {},
   "outputs": [
    {
     "data": {
      "text/markdown": [
       "# Summary of CNN Website\n",
       "## Front Page Content\n",
       "\n",
       "*   **Main Sections:**\n",
       "    *   Breaking News\n",
       "    *   Videos\n",
       "    *   US Politics\n",
       "    *   World\n",
       "    *   Business\n",
       "    *   Health\n",
       "    *   Entertainment\n",
       "    *   Sports\n",
       "    *   Science\n",
       "    *   Travel\n",
       "    *   Culture\n",
       "*   **Featured Stories:**\n",
       "    *   \"China’s leader shows rare moment of emotion during summit\"\n",
       "    *   \"US Open drama: Why is there so much tension?\"\n",
       "    *   \"Deadly protests in Indonesia paused but resentment remains\"\n",
       "\n",
       "## News Articles\n",
       "\n",
       "*   **Top Stories:**\n",
       "    *   \"Major China summit\"\n",
       "    *   \"India's lion population turning into a deadly problem for people in Gujarat\"\n",
       "    *   \"Rare police shooting reveals how a US imported belief system is becoming violent in Australia\"\n",
       "*   **International News:**\n",
       "    *   \"Israel considers West Bank annexation as Palestinian statehood recognition gains momentum\"\n",
       "    *   \"Global media outlets unite to protest Israel's killing of journalists in Gaza\"\n",
       "    *   \"Flotilla leaves Barcelona in biggest attempt yet to break Israeli blockade of Gaza\"\n",
       "\n",
       "## Videos\n",
       "\n",
       "*   **Featured Videos:**\n",
       "    *   \"Crowd watches in terror as lost child walks across monorail track at amusement park\"\n",
       "    *   \"Plane flips over during emergency landing\"\n",
       "    *   \"Indonesia's protests paused but deep resentment remains. What to know\""
      ],
      "text/plain": [
       "<IPython.core.display.Markdown object>"
      ]
     },
     "metadata": {},
     "output_type": "display_data"
    }
   ],
   "source": [
    "display_summary(\"https://cnn.com\")"
   ]
  },
  {
   "cell_type": "code",
   "execution_count": 13,
   "id": "75e9fd40-b354-4341-991e-863ef2e59db7",
   "metadata": {},
   "outputs": [
    {
     "data": {
      "text/markdown": [
       "# Anthropic Website Summary\n",
       "## Mission and Goals\n",
       "\n",
       "Anthropic aims to build AI that serves humanity's long-term well-being. The company focuses on designing powerful technologies with human benefit at their foundation.\n",
       "\n",
       "## Products and Research\n",
       "\n",
       "Anthropic develops products like Claude, an AI model family that includes Opus 4.1, Sonnet 4, and Haiku 3.5. These models enable coding and AI agents to handle hours of work across various applications.\n",
       "\n",
       "## Views on AI Safety\n",
       "\n",
       "The company has core views on AI safety, which include:\n",
       "\n",
       "*   Designing powerful technologies with human benefit at their foundation\n",
       "*   Building tools with intentional pauses to consider the effects on society\n",
       "*   Focusing on responsible AI development in practice\n",
       "\n",
       "## Responsible Scaling Policy\n",
       "\n",
       "Anthropic has a responsible scaling policy that prioritizes human well-being and minimizes risks associated with AI development.\n",
       "\n",
       "## Announcements\n",
       "\n",
       "Recent announcements include:\n",
       "\n",
       "*   Claude Opus 4.1, the most intelligent AI model available\n",
       "*   Introduction of Project Vend, a policy initiative\n",
       "*   Updates on Anthropic's views on agentic misalignment and alignment\n",
       "\n",
       "## Resources and Learning\n",
       "\n",
       "Anthropic offers resources such as Anthropic Academy, which provides access to learning materials for building with Claude.\n",
       "\n",
       "## Company Information\n",
       "\n",
       "The company is publicly traded as Anthropic PBC (2024) and has a range of products and services in AI development."
      ],
      "text/plain": [
       "<IPython.core.display.Markdown object>"
      ]
     },
     "metadata": {},
     "output_type": "display_data"
    }
   ],
   "source": [
    "display_summary(\"https://anthropic.com\")"
   ]
  }
 ],
 "metadata": {
  "kernelspec": {
   "display_name": "Python 3 (ipykernel)",
   "language": "python",
   "name": "python3"
  },
  "language_info": {
   "codemirror_mode": {
    "name": "ipython",
    "version": 3
   },
   "file_extension": ".py",
   "mimetype": "text/x-python",
   "name": "python",
   "nbconvert_exporter": "python",
   "pygments_lexer": "ipython3",
   "version": "3.11.4"
  }
 },
 "nbformat": 4,
 "nbformat_minor": 5
}
